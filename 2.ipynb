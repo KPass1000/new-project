{
 "cells": [
  {
   "cell_type": "code",
   "execution_count": 1,
   "id": "45d578ab-9cc3-4692-a6b8-d1405887648d",
   "metadata": {},
   "outputs": [
    {
     "name": "stdout",
     "output_type": "stream",
     "text": [
      "Expected portfolio return: 0.10%\n",
      "Standard deviation of portfolio return: 0.70%\n",
      "Expected S&P 500 return: 0.03%\n",
      "Standard deviation of S&P 500 return: 1.93%\n",
      "Expected Russell 3000 return: 0.03%\n",
      "Standard deviation of Russell 3000 return: 1.93%\n"
     ]
    }
   ],
   "source": [
    "import numpy as np\n",
    "import pandas as pd\n",
    "import yfinance as yf\n",
    "# Define the list of stock symbols and their allocations in the portfolio\n",
    "stocks = ['AAPL', 'MSFT', 'AMZN', 'GOOGL', 'META', 'TSLA', 'JPM', 'JNJ', 'PG', 'KO']\n",
    "allocations = [0.1] * 10  # Equal allocations for all stocks\n",
    "# Define the start and end dates for the historical data\n",
    "start_date = '2018-05-02'\n",
    "end_date = '2023-05-02'\n",
    "# Pull historical data for each stock symbol using yfinance\n",
    "hist_data = {}\n",
    "for symbol in stocks:\n",
    "    ticker = yf.Ticker(symbol)\n",
    "    data = ticker.history(start=start_date, end=end_date)['Close']\n",
    "    hist_data[symbol] = data\n",
    "# Pull historical data for the S&P 500 and Russell 3000 indexes\n",
    "index_data = {}\n",
    "for symbol in ['^GSPC', '^RUA']:\n",
    "    ticker = yf.Ticker(symbol)\n",
    "    data = ticker.history(start=start_date, end=end_date)['Close']\n",
    "    index_data[symbol] = data\n",
    "# Combine the historical data into a single dataframe\n",
    "df = pd.DataFrame(hist_data)\n",
    "df_index = pd.DataFrame(index_data)\n",
    "# Calculate the daily returns of the stocks and indexes\n",
    "returns = df.pct_change().dropna()\n",
    "returns_index = df_index.pct_change().dropna()\n",
    "# Calculate the expected return and standard deviation of each stock and index\n",
    "mu = returns.mean()\n",
    "sigma = returns.std()\n",
    "mu_index = returns_index.mean()\n",
    "sigma_index = returns_index.std()\n",
    "# Generate a set of random returns for each stock and index\n",
    "num_sims = 500\n",
    "sim_returns = np.random.normal(mu, sigma, size=(num_sims, len(stocks)))\n",
    "sim_returns_index = np.random.normal(mu_index, sigma_index, size=(num_sims, 2))\n",
    "# Calculate the total portfolio return for each set of random returns\n",
    "port_returns = []\n",
    "for sim in sim_returns:\n",
    "    port_return = np.dot(sim, allocations)\n",
    "    port_returns.append(port_return)\n",
    "# Calculate the mean and standard deviation of the portfolio returns\n",
    "mean_return = np.mean(port_returns)\n",
    "std_return = np.std(port_returns)\n",
    "# Calculate the total returns of the S&P 500 and Russell 3000 indexes for each set of random returns\n",
    "index_returns = []\n",
    "for sim in sim_returns_index:\n",
    "    index_return = np.sum(sim)\n",
    "    index_returns.append(index_return)\n",
    "# Calculate the mean and standard deviation of the index returns\n",
    "mean_return_index = np.mean(index_returns)\n",
    "std_return_index = np.std(index_returns)\n",
    "print(\"Expected portfolio return: {:.2f}%\".format(mean_return * 100))\n",
    "print(\"Standard deviation of portfolio return: {:.2f}%\".format(std_return * 100))\n",
    "print(\"Expected S&P 500 return: {:.2f}%\".format(mean_return_index * 100))\n",
    "print(\"Standard deviation of S&P 500 return: {:.2f}%\".format(std_return_index * 100))\n",
    "print(\"Expected Russell 3000 return: {:.2f}%\".format(mean_return_index * 100))\n",
    "print(\"Standard deviation of Russell 3000 return: {:.2f}%\".format(std_return_index * 100))"
   ]
  },
  {
   "cell_type": "code",
   "execution_count": null,
   "id": "6a0ef4fd-835e-4f91-a1f3-0611dd11639d",
   "metadata": {},
   "outputs": [],
   "source": []
  }
 ],
 "metadata": {
  "kernelspec": {
   "display_name": "Python 3 (ipykernel)",
   "language": "python",
   "name": "python3"
  },
  "language_info": {
   "codemirror_mode": {
    "name": "ipython",
    "version": 3
   },
   "file_extension": ".py",
   "mimetype": "text/x-python",
   "name": "python",
   "nbconvert_exporter": "python",
   "pygments_lexer": "ipython3",
   "version": "3.9.13"
  }
 },
 "nbformat": 4,
 "nbformat_minor": 5
}
