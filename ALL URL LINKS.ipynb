{
 "cells": [
  {
   "cell_type": "code",
   "execution_count": 2,
   "id": "18b8d89c-21a5-4204-9de1-329f9db00b48",
   "metadata": {},
   "outputs": [],
   "source": [
    "# ALL LINKS\n",
    "# http://localhost:8888/lab/tree/new-project/manual%20inputs.ipynb\n",
    "# http://localhost:8888/lab/tree/new-project\n",
    "# https://github.com/KPass1000/new-project"
   ]
  },
  {
   "cell_type": "code",
   "execution_count": null,
   "id": "54c3c16c-5434-4bcc-a1d9-682ad71c4f9f",
   "metadata": {},
   "outputs": [],
   "source": []
  }
 ],
 "metadata": {
  "kernelspec": {
   "display_name": "Python 3 (ipykernel)",
   "language": "python",
   "name": "python3"
  },
  "language_info": {
   "codemirror_mode": {
    "name": "ipython",
    "version": 3
   },
   "file_extension": ".py",
   "mimetype": "text/x-python",
   "name": "python",
   "nbconvert_exporter": "python",
   "pygments_lexer": "ipython3",
   "version": "3.9.13"
  }
 },
 "nbformat": 4,
 "nbformat_minor": 5
}
