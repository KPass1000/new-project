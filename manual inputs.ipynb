{
 "cells": [
  {
   "cell_type": "code",
   "execution_count": 4,
   "id": "47e93f69-4f7a-4a54-be56-1e13bbb6e1ee",
   "metadata": {},
   "outputs": [],
   "source": [
    "# This code performs a portfolio analysis by simulating the returns of a sample portfolio consisting of 10 stocks, and\n",
    "# comparing it to the returns of the S&P 500 and Russell 3000."
   ]
  },
  {
   "cell_type": "code",
   "execution_count": 2,
   "id": "ab7c8f96-0a9f-461e-aeb5-06e17915ada2",
   "metadata": {},
   "outputs": [
    {
     "name": "stdout",
     "output_type": "stream",
     "text": [
      "[*********************100%***********************]  10 of 10 completed\n"
     ]
    },
    {
     "name": "stdin",
     "output_type": "stream",
     "text": [
      "Enter 'p' to allocate percentages or 'd' to allocate dollar amounts:  d\n",
      "Enter total dollars to allocate:  10000\n",
      "Enter dollar allocation for AAPL:  10000\n",
      "Enter dollar allocation for MSFT:  0\n",
      "Enter dollar allocation for AMZN:  0\n",
      "Enter dollar allocation for GOOGL:  0\n",
      "Enter dollar allocation for META:  0\n",
      "Enter dollar allocation for TSLA:  0\n",
      "Enter dollar allocation for JPM:  0\n",
      "Enter dollar allocation for JNJ:  0\n",
      "Enter dollar allocation for PG:  0\n",
      "Enter dollar allocation for KO:  0\n"
     ]
    },
    {
     "name": "stdout",
     "output_type": "stream",
     "text": [
      "Expected portfolio return: 0.18%\n",
      "Standard deviation of portfolio return: 2.09%\n",
      "[*********************100%***********************]  1 of 1 completed\n",
      "[*********************100%***********************]  1 of 1 completed\n",
      "Expected portfolio return for S&P 500: 0.01%\n",
      "Standard deviation of portfolio return for S&P 500: 1.44%\n",
      "Expected portfolio return for Russell 3000: 0.00%\n",
      "Standard deviation of portfolio return for Russell 3000: 0.00%\n"
     ]
    },
    {
     "data": {
      "image/png": "[encoded data removed]",
      "text/plain": [
       "<Figure size 640x480 with 1 Axes>"
      ]
     },
     "metadata": {},
     "output_type": "display_data"
    }
   ],
   "source": [
    "import numpy as np\n",
    "import pandas as pd\n",
    "import yfinance as yf\n",
    "import matplotlib.pyplot as plt\n",
    "# Define the list of stock symbols\n",
    "stocks = ['AAPL', 'MSFT', 'AMZN', 'GOOGL', 'META', 'TSLA', 'JPM', 'JNJ', 'PG', 'KO']\n",
    "# Get current stock prices\n",
    "ticker_data = yf.Tickers(\" \".join(stocks))\n",
    "current_prices = ticker_data.history(period='1d')['Close']\n",
    "# Define the start and end dates for the historical data\n",
    "start_date = '2018-05-02'\n",
    "end_date = '2023-05-02'\n",
    "# Pull historical data for each stock symbol using yfinance\n",
    "hist_data = {}\n",
    "for symbol in stocks:\n",
    "    ticker = yf.Ticker(symbol)\n",
    "    data = ticker.history(start=start_date, end=end_date)['Close']\n",
    "    hist_data[symbol] = data\n",
    "# Combine the historical data into a single dataframe\n",
    "df = pd.DataFrame(hist_data)\n",
    "# Calculate the daily returns of the stocks\n",
    "returns = df.pct_change().dropna()\n",
    "# Ask user for portfolio allocation\n",
    "allocation_type = input(\"Enter 'p' to allocate percentages or 'd' to allocate dollar amounts: \")\n",
    "weights = []\n",
    "if allocation_type == 'p':\n",
    "    for symbol in stocks:\n",
    "        weight = float(input(f\"Enter percentage allocation for {symbol}: \")) / 100\n",
    "        weights.append(weight)\n",
    "elif allocation_type == 'd':\n",
    "    total_dollars = float(input(\"Enter total dollars to allocate: \"))\n",
    "    for symbol in stocks:\n",
    "        dollars = float(input(f\"Enter dollar allocation for {symbol}: \"))\n",
    "        weight = dollars / total_dollars\n",
    "        weights.append(weight)\n",
    "# Calculate the expected return and standard deviation of each stock\n",
    "mu = returns.mean()\n",
    "sigma = returns.std()\n",
    "# Generate a set of random returns for each stock\n",
    "num_sims = 500\n",
    "sim_returns = np.random.normal(mu, sigma, size=(num_sims, len(stocks)))\n",
    "# Calculate the total portfolio return for each set of random returns\n",
    "port_returns = []\n",
    "for sim in sim_returns:\n",
    "    port_return = np.dot(sim, weights)\n",
    "    port_returns.append(port_return)\n",
    "# Calculate the mean and standard deviation of the portfolio returns\n",
    "mean_return = np.mean(port_returns)\n",
    "std_return = np.std(port_returns)\n",
    "# Print the expected return and standard deviation of the portfolio\n",
    "print(\"Expected portfolio return: {:.2f}%\".format(mean_return * 100))\n",
    "print(\"Standard deviation of portfolio return: {:.2f}%\".format(std_return * 100))\n",
    "# Pull historical data for the S&P 500 and Russell 3000 indices\n",
    "spy_data = yf.download('^GSPC', start=start_date, end=end_date)['Adj Close']\n",
    "russell_data = yf.download('^RUA', start=start_date, end=end_date)['Adj Close']\n",
    "# Calculate the daily returns of the S&P 500 and Russell 3000 indices\n",
    "spy_returns = spy_data.pct_change().dropna()\n",
    "russell_returns = russell_data.pct_change().dropna()\n",
    "# Calculate the expected return and standard deviation of each index\n",
    "spy_mu = spy_returns.mean()\n",
    "spy_sigma = spy_returns.std()\n",
    "russell_mu = russell_returns.mean()\n",
    "russell_sigma = russell_returns.std()\n",
    "# Generate a set of random returns for each index\n",
    "num_sims = 500\n",
    "spy_sim_returns = np.random.normal(spy_mu, spy_sigma, size=num_sims)\n",
    "russell_sim_returns = np.random.normal(russell_mu, russell_sigma, size=num_sims)\n",
    "#Calculate the total portfolio return for each set of random returns\n",
    "spy_port_returns = []\n",
    "russell_port_returns = []\n",
    "for sim in spy_sim_returns:\n",
    "    spy_port_return = sim * weights[0]\n",
    "    spy_port_returns.append(spy_port_return)\n",
    "for sim in russell_sim_returns:\n",
    "    russell_port_return = sim * weights[1]\n",
    "    russell_port_returns.append(russell_port_return)\n",
    "# Calculate the mean and standard deviation of the portfolio returns for each index\n",
    "spy_mean_return = np.mean(spy_port_returns)\n",
    "spy_std_return = np.std(spy_port_returns)\n",
    "russell_mean_return = np.mean(russell_port_returns)\n",
    "russell_std_return = np.std(russell_port_returns)\n",
    "# Print the expected return and standard deviation of the portfolio for each index\n",
    "print(\"Expected portfolio return for S&P 500: {:.2f}%\".format(spy_mean_return * 100))\n",
    "print(\"Standard deviation of portfolio return for S&P 500: {:.2f}%\".format(spy_std_return * 100))\n",
    "print(\"Expected portfolio return for Russell 3000: {:.2f}%\".format(russell_mean_return * 100))\n",
    "print(\"Standard deviation of portfolio return for Russell 3000: {:.2f}%\".format(russell_std_return * 100))\n",
    "# Plot the distribution of portfolio returns\n",
    "plt.hist(port_returns, bins=30, density=True, alpha=0.7, label='Portfolio', color='blue')\n",
    "plt.hist(spy_port_returns, bins=30, density=True, alpha=0.5, label='S&P 500', color='red')\n",
    "plt.hist(russell_port_returns, bins=30, density=True, alpha=0.5, label='Russell 3000', color='green')\n",
    "plt.legend()\n",
    "plt.title('Distribution of Portfolio Returns')\n",
    "plt.xlabel('Return')\n",
    "plt.ylabel('Density')\n",
    "plt.show()"
   ]
  },
  {
   "cell_type": "code",
   "execution_count": null,
   "id": "7d88580f-874b-40c6-b16b-d88277d48308",
   "metadata": {},
   "outputs": [],
   "source": [
    "# The portfolio analyzer is programmed to include a total of 10 stocks, and a total budget of $10,000."
   ]
  }
 ],
 "metadata": {
  "kernelspec": {
   "display_name": "Python 3 (ipykernel)",
   "language": "python",
   "name": "python3"
  },
  "language_info": {
   "codemirror_mode": {
    "name": "ipython",
    "version": 3
   },
   "file_extension": ".py",
   "mimetype": "text/x-python",
   "name": "python",
   "nbconvert_exporter": "python",
   "pygments_lexer": "ipython3",
   "version": "3.9.13"
  }
 },
 "nbformat": 4,
 "nbformat_minor": 5
}
