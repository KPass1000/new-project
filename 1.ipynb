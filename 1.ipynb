{
 "cells": [
  {
   "cell_type": "code",
   "execution_count": 2,
   "id": "235727a1-a74c-4550-ae34-b72d13292a0d",
   "metadata": {},
   "outputs": [
    {
     "name": "stdout",
     "output_type": "stream",
     "text": [
      "Expected return: 0.06%\n",
      "Standard deviation of return: 0.70%\n"
     ]
    }
   ],
   "source": [
    "import numpy as np\n",
    "import pandas as pd\n",
    "import yfinance as yf\n",
    "# Define the list of stock symbols and their allocations in the portfolio\n",
    "stocks = ['AAPL', 'MSFT', 'AMZN', 'GOOGL', 'META', 'TSLA', 'JPM', 'JNJ', 'PG', 'KO']\n",
    "allocations = [0.1] * 10  # Equal allocations for all stocks\n",
    "# Define the start and end dates for the historical data\n",
    "start_date = '2018-05-02'\n",
    "end_date = '2023-05-02'\n",
    "# Pull historical data for each stock symbol using yfinance\n",
    "hist_data = {}\n",
    "for symbol in stocks:\n",
    "    ticker = yf.Ticker(symbol)\n",
    "    data = ticker.history(start=start_date, end=end_date)['Close']\n",
    "    hist_data[symbol] = data\n",
    "# Combine the historical data into a single dataframe\n",
    "df = pd.DataFrame(hist_data)\n",
    "# Calculate the daily returns of the stocks\n",
    "returns = df.pct_change().dropna()\n",
    "# Calculate the expected return and standard deviation of each stock\n",
    "mu = returns.mean()\n",
    "sigma = returns.std()\n",
    "# Generate a set of random returns for each stock\n",
    "num_sims = 500\n",
    "sim_returns = np.random.normal(mu, sigma, size=(num_sims, len(stocks)))\n",
    "# Calculate the total portfolio return for each set of random returns\n",
    "port_returns = []\n",
    "for sim in sim_returns:\n",
    "    port_return = np.dot(sim, allocations)\n",
    "    port_returns.append(port_return)\n",
    "# Calculate the mean and standard deviation of the portfolio returns\n",
    "mean_return = np.mean(port_returns)\n",
    "std_return = np.std(port_returns)\n",
    "print(\"Expected return: {:.2f}%\".format(mean_return * 100))\n",
    "print(\"Standard deviation of return: {:.2f}%\".format(std_return * 100))"
   ]
  },
  {
   "cell_type": "code",
   "execution_count": null,
   "id": "0a75f6cb-7241-427c-90cb-92f1fa9ce893",
   "metadata": {},
   "outputs": [],
   "source": []
  }
 ],
 "metadata": {
  "kernelspec": {
   "display_name": "Python 3 (ipykernel)",
   "language": "python",
   "name": "python3"
  },
  "language_info": {
   "codemirror_mode": {
    "name": "ipython",
    "version": 3
   },
   "file_extension": ".py",
   "mimetype": "text/x-python",
   "name": "python",
   "nbconvert_exporter": "python",
   "pygments_lexer": "ipython3",
   "version": "3.9.13"
  }
 },
 "nbformat": 4,
 "nbformat_minor": 5
}
